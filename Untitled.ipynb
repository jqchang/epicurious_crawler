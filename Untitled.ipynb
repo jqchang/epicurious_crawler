{
 "cells": [
  {
   "cell_type": "code",
   "execution_count": 78,
   "metadata": {},
   "outputs": [],
   "source": [
    "import pandas as pd\n",
    "import numpy as np\n",
    "import tensorflow as tf\n",
    "try:\n",
    "    from tensorflow.keras.callbacks import ModelCheckpoint, LearningRateScheduler\n",
    "except ModuleNotFoundError:\n",
    "    from tensorflow.python.keras.callbacks import ModelCheckpoint,LearningRateScheduler\n",
    "np.random.seed(42)  # for reproducibility\n",
    "\n",
    "filepath = './output/tag2cals.hdf5'\n",
    "checkpoint = ModelCheckpoint(filepath,\n",
    "                            monitor='val_loss',\n",
    "                            verbose=1,\n",
    "                            save_best_only=True,\n",
    "                            mode='min')"
   ]
  },
  {
   "cell_type": "code",
   "execution_count": 85,
   "metadata": {},
   "outputs": [],
   "source": [
    "x_df = pd.read_csv('tag_vector.csv',header=None)\n",
    "y_df = pd.read_csv('food_info.csv',header=None)\n",
    "\n",
    "X = x_df.to_numpy()\n",
    "Y = y_df.to_numpy()[:,1:]\n",
    "# Y = y_df.to_numpy()[:,1]\n",
    "N = X.shape[0]\n",
    "train_ratio = 0.85\n",
    "N_train = int(N*train_ratio)\n",
    "\n",
    "p = np.random.permutation(N)\n",
    "\n",
    "X_train,Y_train = X[p[0:N_train]],Y[p[0:N_train]]\n",
    "X_valid,Y_valid = X[p[N_train:N]],Y[p[N_train:N]]"
   ]
  },
  {
   "cell_type": "code",
   "execution_count": 153,
   "metadata": {},
   "outputs": [
    {
     "name": "stdout",
     "output_type": "stream",
     "text": [
      "[[589.71405    50.99868    21.584642   33.530113 ]\n",
      " [738.253      67.98653    23.7176     41.3794   ]\n",
      " [389.96063    31.1839     15.964975   22.498154 ]\n",
      " ...\n",
      " [389.0929     31.124952   15.9212475  22.445154 ]\n",
      " [265.61075    22.73683     9.698334   14.903122 ]\n",
      " [409.54068    33.08611    16.552168   23.585817 ]]\n",
      "[504.84537   44.81036   17.445877  28.49697 ]\n"
     ]
    }
   ],
   "source": [
    "from keras import Sequential\n",
    "from keras.layers import Dense, Dropout, Activation, LeakyReLU\n",
    "\n",
    "model = Sequential()\n",
    "# model.add(Dense(10, input_dim=X.shape[1], activation='relu'))\n",
    "# model.add(Dense(4, activation='relu'))\n",
    "model.add(Dense(10, input_dim=X.shape[1], activation='sigmoid'))\n",
    "model.add(Dense(20, activation='sigmoid'))\n",
    "model.add(Dense(4, activation='relu'))\n",
    "\n",
    "model.compile(optimizer='sgd',loss='mean_squared_error')\n",
    "history = model.fit(X_train, Y_train, batch_size=1000, shuffle=True,\n",
    "              epochs=200, verbose=0, validation_data=(X_valid, Y_valid)) \n",
    "answer = model.predict([X[:]])\n",
    "print(answer)\n",
    "\n",
    "print(np.mean(answer,axis=0))"
   ]
  },
  {
   "cell_type": "code",
   "execution_count": 154,
   "metadata": {},
   "outputs": [
    {
     "name": "stdout",
     "output_type": "stream",
     "text": [
      "0 [589.71405   50.99868   21.584642  33.530113] [750 21 44 55]\n",
      "1 [738.253    67.98653  23.7176   41.3794 ] [567 24 36 36]\n",
      "2 [389.96063   31.1839    15.964975  22.498154] [27 1 1 2]\n",
      "3 [389.96063   31.1839    15.964975  22.498154] [720 84 28 33]\n",
      "4 [566.0337    48.29045   21.244596  32.278763] [358 71 8 4]\n",
      "5 [265.6098    22.736736   9.698304  14.90307 ] [175 2 10 14]\n",
      "6 [265.61035   22.736795   9.698319  14.903099] [269 69 4 2]\n",
      "7 [265.61075   22.73683    9.698334  14.903122] [66 8 1 4]\n",
      "8 [762.1692    70.72166   24.06108   42.643227] [454 53 23 15]\n",
      "9 [763.46625   70.87007   24.079659  42.711754] [1872 220 90 70]\n",
      "10 [265.61105   22.736856   9.698346  14.903137] [466 22 15 38]\n",
      "11 [566.07007   48.2946    21.245125  32.280685] [639 47 27 40]\n",
      "12 [389.96063   31.1839    15.964975  22.498154] [351 31 6 22]\n",
      "13 [571.66327   48.934277  21.32544   32.576252] [1300 31 31 120]\n",
      "14 [763.46625   70.87007   24.079659  42.711754] [649 13 54 41]\n",
      "15 [763.46625   70.87007   24.079659  42.711754] [975 27 59 70]\n",
      "16 [566.0337    48.29045   21.244596  32.278763] [636 13 32 51]\n",
      "17 [763.46625   70.87007   24.079659  42.711754] [457 14 25 32]\n",
      "18 [389.96063   31.1839    15.964975  22.498154] [567 12 40 38]\n",
      "19 [566.0337    48.29045   21.244596  32.278763] [597 46 30 33]\n",
      "20 [566.0337    48.29045   21.244596  32.278763] [458 16 27 31]\n",
      "21 [566.0337    48.29045   21.244596  32.278763] [354 16 32 19]\n",
      "22 [389.96063   31.1839    15.964974  22.498152] [388 11 31 24]\n",
      "23 [389.9606    31.183899  15.964973  22.498152] [275 19 17 15]\n",
      "24 [566.0337    48.290447  21.244596  32.278763] [512 6 31 41]\n",
      "25 [265.61075   22.73683    9.698334  14.903122] [307 40 5 16]\n",
      "26 [265.61075   22.73683    9.698334  14.903122] [229 21 5 15]\n",
      "27 [566.07007   48.2946    21.245125  32.280685] [790 55 19 58]\n",
      "28 [265.61075   22.73683    9.698334  14.903122] [289 24 3 22]\n",
      "29 [265.61075   22.73683    9.698334  14.90312 ] [243 19 4 19]\n",
      "30 [265.61517    22.73708     9.6985855  14.903402 ] [191 21 6 11]\n",
      "31 [763.46625   70.87007   24.079659  42.711754] [987 8 39 88]\n",
      "32 [265.61096    22.736849    9.698341   14.9031315] [251 21 4 18]\n",
      "33 [265.61517   22.73708    9.698586  14.903402] [632 70 22 33]\n",
      "34 [564.775     48.169674  21.205482  32.20861 ] [255 35 10 9]\n",
      "35 [389.959     31.18379   15.964894  22.498056] [686 38 13 55]\n",
      "36 [763.54315   70.878654  24.081253  42.715874] [3339 512 50 135]\n",
      "37 [763.54315   70.878654  24.081253  42.715874] [555 85 8 22]\n",
      "38 [564.775     48.169674  21.205482  32.20861 ] [295 29 8 16]\n",
      "39 [763.5434    70.87868   24.081253  42.715878] [454 64 6 20]\n",
      "40 [265.61554   22.737104   9.698605  14.903425] [180 23 1 0]\n",
      "41 [766.47943   71.22182   24.14016   42.875904] [586 35 25 38]\n",
      "42 [265.61487   22.73706    9.698572  14.903387] [365 58 11 12]\n",
      "43 [762.79584   70.7934    24.070026  42.676323] [455 58 9 25]\n",
      "44 [566.0337    48.29045   21.244596  32.278763] [183 2 8 16]\n",
      "45 [766.47943   71.22182   24.14016   42.875904] [208 31 11 6]\n",
      "46 [265.61517    22.73708     9.6985855  14.903402 ] [177 19 3 10]\n",
      "47 [564.775     48.169674  21.205482  32.20861 ] [311 48 6 10]\n",
      "48 [265.60278   22.73612    9.698032  14.902676] [164 13 2 12]\n",
      "49 [766.47943   71.22182   24.14016   42.875904] [448 31 25 27]\n"
     ]
    }
   ],
   "source": [
    "for i in range(50):\n",
    "    print(i,answer[i],Y[i])"
   ]
  },
  {
   "cell_type": "code",
   "execution_count": null,
   "metadata": {},
   "outputs": [],
   "source": []
  }
 ],
 "metadata": {
  "kernelspec": {
   "display_name": "Python 3",
   "language": "python",
   "name": "python3"
  },
  "language_info": {
   "codemirror_mode": {
    "name": "ipython",
    "version": 3
   },
   "file_extension": ".py",
   "mimetype": "text/x-python",
   "name": "python",
   "nbconvert_exporter": "python",
   "pygments_lexer": "ipython3",
   "version": "3.6.8"
  }
 },
 "nbformat": 4,
 "nbformat_minor": 2
}
