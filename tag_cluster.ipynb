{
 "cells": [
  {
   "cell_type": "markdown",
   "metadata": {},
   "source": [
    "### Miniproject 3\n",
    "- Justin Chang\n",
    "- W1526832\n",
    "- COEN345: Computer Vision II\n",
    "- Spring 2019"
   ]
  },
  {
   "cell_type": "code",
   "execution_count": 54,
   "metadata": {
    "scrolled": false
   },
   "outputs": [
    {
     "name": "stdout",
     "output_type": "stream",
     "text": [
      "(11981, 696)\n"
     ]
    }
   ],
   "source": [
    "import pandas as pd\n",
    "import numpy as np\n",
    "import scipy.cluster.vq as sc\n",
    "import math\n",
    "import random\n",
    "\n",
    "df = pd.read_csv('tag_vector.csv',header=None)\n",
    "data = df.to_numpy()\n",
    "print(data.shape)\n",
    "df.head()\n",
    "N = data.shape[0]"
   ]
  },
  {
   "cell_type": "code",
   "execution_count": 63,
   "metadata": {},
   "outputs": [
    {
     "name": "stdout",
     "output_type": "stream",
     "text": [
      "[6 6 6 ... 6 6 6]\n"
     ]
    }
   ],
   "source": [
    "whitened = sc.whiten(data)\n",
    "centroids,nearest = sc.kmeans2(whitened,24,minit='points',iter=1000)\n",
    "idx,_ = sc.vq(data,centroids)\n",
    "print(idx)"
   ]
  },
  {
   "cell_type": "code",
   "execution_count": null,
   "metadata": {},
   "outputs": [],
   "source": []
  },
  {
   "cell_type": "code",
   "execution_count": 64,
   "metadata": {
    "scrolled": true
   },
   "outputs": [
    {
     "data": {
      "text/plain": [
       "{6: 11797, 10: 184}"
      ]
     },
     "execution_count": 64,
     "metadata": {},
     "output_type": "execute_result"
    }
   ],
   "source": [
    "unique, counts = np.unique(idx, return_counts=True)\n",
    "dict(zip(unique,counts))"
   ]
  },
  {
   "cell_type": "code",
   "execution_count": 44,
   "metadata": {},
   "outputs": [
    {
     "data": {
      "text/plain": [
       "{0: 237,\n",
       " 1: 24,\n",
       " 2: 36,\n",
       " 3: 69,\n",
       " 4: 161,\n",
       " 5: 321,\n",
       " 6: 469,\n",
       " 7: 639,\n",
       " 8: 734,\n",
       " 9: 790,\n",
       " 10: 735,\n",
       " 11: 720,\n",
       " 12: 712,\n",
       " 13: 782,\n",
       " 14: 842,\n",
       " 15: 898,\n",
       " 16: 776,\n",
       " 17: 769,\n",
       " 18: 588,\n",
       " 19: 503,\n",
       " 20: 377,\n",
       " 21: 257,\n",
       " 22: 191,\n",
       " 23: 136,\n",
       " 24: 82,\n",
       " 25: 41,\n",
       " 26: 35,\n",
       " 27: 23,\n",
       " 28: 9,\n",
       " 29: 9,\n",
       " 30: 5,\n",
       " 31: 4,\n",
       " 32: 3,\n",
       " 33: 2,\n",
       " 35: 1,\n",
       " 36: 1}"
      ]
     },
     "execution_count": 44,
     "metadata": {},
     "output_type": "execute_result"
    }
   ],
   "source": [
    "num_tags = np.sum(data,axis=1)\n",
    "u,c = np.unique(num_tags,return_counts=True)\n",
    "dict(zip(u,c))"
   ]
  },
  {
   "cell_type": "code",
   "execution_count": 45,
   "metadata": {},
   "outputs": [
    {
     "name": "stdout",
     "output_type": "stream",
     "text": [
      "(array([ 4091,  4190,  4942,  4968,  5000,  5050,  5121,  5462,  5574,\n",
      "        5615,  5665,  5852,  5859,  6157,  6370,  6647,  6658,  6830,\n",
      "        6837,  6902,  7031,  7538,  7717,  7720,  7779,  8397,  8674,\n",
      "        9402,  9943, 10366, 10451, 10520, 10678, 10814, 10933, 11218,\n",
      "       11234, 11245, 11285, 11553, 11764]),)\n"
     ]
    }
   ],
   "source": [
    "print(np.where(clusters == 6))"
   ]
  },
  {
   "cell_type": "code",
   "execution_count": null,
   "metadata": {},
   "outputs": [],
   "source": [
    "y_df = pd.read_csv('food_info.csv',header=None)\n",
    "Y = y_df.to_numpy()[:,1:]\n"
   ]
  }
 ],
 "metadata": {
  "kernelspec": {
   "display_name": "Python 3",
   "language": "python",
   "name": "python3"
  },
  "language_info": {
   "codemirror_mode": {
    "name": "ipython",
    "version": 3
   },
   "file_extension": ".py",
   "mimetype": "text/x-python",
   "name": "python",
   "nbconvert_exporter": "python",
   "pygments_lexer": "ipython3",
   "version": "3.6.8"
  }
 },
 "nbformat": 4,
 "nbformat_minor": 2
}
