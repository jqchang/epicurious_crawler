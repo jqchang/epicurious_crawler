{
 "cells": [
  {
   "cell_type": "code",
   "execution_count": 78,
   "metadata": {},
   "outputs": [],
   "source": [
    "import pandas as pd\n",
    "import numpy as np\n",
    "import tensorflow as tf\n",
    "try:\n",
    "    from tensorflow.keras.callbacks import ModelCheckpoint, LearningRateScheduler\n",
    "except ModuleNotFoundError:\n",
    "    from tensorflow.python.keras.callbacks import ModelCheckpoint,LearningRateScheduler\n",
    "np.random.seed(42)  # for reproducibility\n",
    "\n",
    "filepath = './output/tag2cals.hdf5'\n",
    "checkpoint = ModelCheckpoint(filepath,\n",
    "                            monitor='val_loss',\n",
    "                            verbose=1,\n",
    "                            save_best_only=True,\n",
    "                            mode='min')"
   ]
  },
  {
   "cell_type": "code",
   "execution_count": 85,
   "metadata": {},
   "outputs": [],
   "source": [
    "x_df = pd.read_csv('tag_vector.csv',header=None)\n",
    "y_df = pd.read_csv('food_info.csv',header=None)\n",
    "\n",
    "X = x_df.to_numpy()\n",
    "Y = y_df.to_numpy()[:,1:]\n",
    "# Y = y_df.to_numpy()[:,1]\n",
    "N = X.shape[0]\n",
    "train_ratio = 0.85\n",
    "N_train = int(N*train_ratio)\n",
    "\n",
    "p = np.random.permutation(N)\n",
    "\n",
    "X_train,Y_train = X[p[0:N_train]],Y[p[0:N_train]]\n",
    "X_valid,Y_valid = X[p[N_train:N]],Y[p[N_train:N]]"
   ]
  },
  {
   "cell_type": "code",
   "execution_count": 148,
   "metadata": {},
   "outputs": [
    {
     "name": "stdout",
     "output_type": "stream",
     "text": [
      "[[521.6489    44.55677   19.389727  29.658321]\n",
      " [521.6489    44.55677   19.389727  29.658321]\n",
      " [521.6489    44.55677   19.389727  29.658321]\n",
      " ...\n",
      " [521.6489    44.55677   19.389727  29.658321]\n",
      " [521.6489    44.55677   19.389727  29.658321]\n",
      " [521.6489    44.55677   19.389727  29.658321]]\n",
      "[521.6283    44.56094   19.390556  29.656792]\n"
     ]
    }
   ],
   "source": [
    "from keras import Sequential\n",
    "from keras.layers import Dense, Dropout, Activation, LeakyReLU\n",
    "\n",
    "model = Sequential()\n",
    "# model.add(Dense(10, input_dim=X.shape[1], activation='relu'))\n",
    "# model.add(Dense(4, activation='relu'))\n",
    "model.add(Dense(10, input_dim=X.shape[1], activation='softmax'))\n",
    "model.add(LeakyReLU(alpha=0.01))\n",
    "model.add(Dense(4, activation='relu'))\n",
    "\n",
    "model.compile(optimizer='sgd',loss='mean_squared_error')\n",
    "history = model.fit(X_train, Y_train, batch_size=1000, shuffle=True,\n",
    "              epochs=200, verbose=0, validation_data=(X_valid, Y_valid)) \n",
    "answer = model.predict([X[:]])\n",
    "print(answer)\n",
    "\n",
    "print(np.mean(answer,axis=0))"
   ]
  },
  {
   "cell_type": "code",
   "execution_count": 149,
   "metadata": {},
   "outputs": [
    {
     "name": "stdout",
     "output_type": "stream",
     "text": [
      "0 [521.6489    44.55677   19.389727  29.658321] [750 21 44 55]\n",
      "1 [521.6489    44.55677   19.389727  29.658321] [567 24 36 36]\n",
      "2 [521.6489    44.55677   19.389727  29.658321] [27 1 1 2]\n",
      "3 [521.6489    44.55677   19.389727  29.658321] [720 84 28 33]\n",
      "4 [521.6489    44.55677   19.389727  29.658321] [358 71 8 4]\n",
      "5 [521.6489    44.55677   19.389727  29.658321] [175 2 10 14]\n",
      "6 [521.6489    44.55677   19.389727  29.658321] [269 69 4 2]\n",
      "7 [521.6489    44.55677   19.389727  29.658321] [66 8 1 4]\n",
      "8 [521.6489    44.55677   19.389727  29.658321] [454 53 23 15]\n",
      "9 [521.6489    44.55677   19.389727  29.658321] [1872 220 90 70]\n",
      "10 [521.6489    44.55677   19.389727  29.658321] [466 22 15 38]\n",
      "11 [521.6489    44.55677   19.389727  29.658321] [639 47 27 40]\n",
      "12 [521.6489    44.55677   19.389727  29.658321] [351 31 6 22]\n",
      "13 [521.6489    44.55677   19.389727  29.658321] [1300 31 31 120]\n",
      "14 [521.6489    44.55677   19.389727  29.658321] [649 13 54 41]\n",
      "15 [521.6489    44.55677   19.389727  29.658321] [975 27 59 70]\n",
      "16 [521.6489    44.55677   19.389727  29.658321] [636 13 32 51]\n",
      "17 [521.6489    44.55677   19.389727  29.658321] [457 14 25 32]\n",
      "18 [521.6489    44.55677   19.389727  29.658321] [567 12 40 38]\n",
      "19 [521.6489    44.55677   19.389727  29.658321] [597 46 30 33]\n",
      "20 [521.6489    44.55677   19.389727  29.658321] [458 16 27 31]\n",
      "21 [521.6489    44.55677   19.389727  29.658321] [354 16 32 19]\n",
      "22 [521.6489    44.55677   19.389727  29.658321] [388 11 31 24]\n",
      "23 [521.6489    44.55677   19.389727  29.658321] [275 19 17 15]\n",
      "24 [521.6489    44.55677   19.389727  29.658321] [512 6 31 41]\n",
      "25 [521.6489    44.55677   19.389727  29.658321] [307 40 5 16]\n",
      "26 [521.6489    44.55677   19.389727  29.658321] [229 21 5 15]\n",
      "27 [521.6489    44.55677   19.389727  29.658321] [790 55 19 58]\n",
      "28 [521.6489    44.55677   19.389727  29.658321] [289 24 3 22]\n",
      "29 [521.6489    44.55677   19.389727  29.658321] [243 19 4 19]\n",
      "30 [521.6489    44.55677   19.389727  29.658321] [191 21 6 11]\n",
      "31 [521.6489    44.55677   19.389727  29.658321] [987 8 39 88]\n",
      "32 [521.6489    44.55677   19.389727  29.658321] [251 21 4 18]\n",
      "33 [521.6489    44.55677   19.389727  29.658321] [632 70 22 33]\n",
      "34 [521.6489    44.55677   19.389727  29.658321] [255 35 10 9]\n",
      "35 [521.6489    44.55677   19.389727  29.658321] [686 38 13 55]\n",
      "36 [521.6489    44.55677   19.389727  29.658321] [3339 512 50 135]\n",
      "37 [521.6489    44.55677   19.389727  29.658321] [555 85 8 22]\n",
      "38 [521.6489    44.55677   19.389727  29.658321] [295 29 8 16]\n",
      "39 [521.6489    44.55677   19.389727  29.658321] [454 64 6 20]\n",
      "40 [521.6489    44.55677   19.389727  29.658321] [180 23 1 0]\n",
      "41 [521.6489    44.55677   19.389727  29.658321] [586 35 25 38]\n",
      "42 [521.6489    44.55677   19.389727  29.658321] [365 58 11 12]\n",
      "43 [521.6489    44.55677   19.389727  29.658321] [455 58 9 25]\n",
      "44 [521.6489    44.55677   19.389727  29.658321] [183 2 8 16]\n",
      "45 [521.6489    44.55677   19.389727  29.658321] [208 31 11 6]\n",
      "46 [521.6489    44.55677   19.389727  29.658321] [177 19 3 10]\n",
      "47 [521.6489    44.55677   19.389727  29.658321] [311 48 6 10]\n",
      "48 [521.6489    44.55677   19.389727  29.658321] [164 13 2 12]\n",
      "49 [521.6489    44.55677   19.389727  29.658321] [448 31 25 27]\n"
     ]
    }
   ],
   "source": [
    "for i in range(50):\n",
    "    print(i,answer[i],Y[i])"
   ]
  },
  {
   "cell_type": "code",
   "execution_count": null,
   "metadata": {},
   "outputs": [],
   "source": []
  }
 ],
 "metadata": {
  "kernelspec": {
   "display_name": "Python 3",
   "language": "python",
   "name": "python3"
  },
  "language_info": {
   "codemirror_mode": {
    "name": "ipython",
    "version": 3
   },
   "file_extension": ".py",
   "mimetype": "text/x-python",
   "name": "python",
   "nbconvert_exporter": "python",
   "pygments_lexer": "ipython3",
   "version": "3.6.8"
  }
 },
 "nbformat": 4,
 "nbformat_minor": 2
}
